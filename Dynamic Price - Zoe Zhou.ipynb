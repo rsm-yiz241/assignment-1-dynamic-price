{
 "cells": [
  {
   "cell_type": "code",
   "execution_count": 18,
   "metadata": {},
   "outputs": [
    {
     "data": {
      "text/html": [
       "<div>\n",
       "<style scoped>\n",
       "    .dataframe tbody tr th:only-of-type {\n",
       "        vertical-align: middle;\n",
       "    }\n",
       "\n",
       "    .dataframe tbody tr th {\n",
       "        vertical-align: top;\n",
       "    }\n",
       "\n",
       "    .dataframe thead th {\n",
       "        text-align: right;\n",
       "    }\n",
       "</style>\n",
       "<table border=\"1\" class=\"dataframe\">\n",
       "  <thead>\n",
       "    <tr style=\"text-align: right;\">\n",
       "      <th></th>\n",
       "      <th>price</th>\n",
       "      <th>mon_purchases</th>\n",
       "      <th>tues_purchases</th>\n",
       "    </tr>\n",
       "  </thead>\n",
       "  <tbody>\n",
       "    <tr>\n",
       "      <th>0</th>\n",
       "      <td>10</td>\n",
       "      <td>1</td>\n",
       "      <td>0</td>\n",
       "    </tr>\n",
       "    <tr>\n",
       "      <th>1</th>\n",
       "      <td>10</td>\n",
       "      <td>1</td>\n",
       "      <td>1</td>\n",
       "    </tr>\n",
       "    <tr>\n",
       "      <th>2</th>\n",
       "      <td>10</td>\n",
       "      <td>1</td>\n",
       "      <td>1</td>\n",
       "    </tr>\n",
       "  </tbody>\n",
       "</table>\n",
       "</div>"
      ],
      "text/plain": [
       "   price  mon_purchases  tues_purchases\n",
       "0     10              1               0\n",
       "1     10              1               1\n",
       "2     10              1               1"
      ]
     },
     "execution_count": 18,
     "metadata": {},
     "output_type": "execute_result"
    }
   ],
   "source": [
    "#read the parquet dataset\n",
    "import pandas as pd\n",
    "df = pd.read_parquet('/Users/zhouyiying/Downloads/assignment 1 files/prices.parquet')\n",
    "#convert parquet to DataFrame\n",
    "df_price = pd.DataFrame(df)\n",
    "df_price.head(3)"
   ]
  },
  {
   "cell_type": "code",
   "execution_count": 70,
   "metadata": {},
   "outputs": [
    {
     "data": {
      "text/html": [
       "<div>\n",
       "<style scoped>\n",
       "    .dataframe tbody tr th:only-of-type {\n",
       "        vertical-align: middle;\n",
       "    }\n",
       "\n",
       "    .dataframe tbody tr th {\n",
       "        vertical-align: top;\n",
       "    }\n",
       "\n",
       "    .dataframe thead th {\n",
       "        text-align: right;\n",
       "    }\n",
       "</style>\n",
       "<table border=\"1\" class=\"dataframe\">\n",
       "  <thead>\n",
       "    <tr style=\"text-align: right;\">\n",
       "      <th></th>\n",
       "      <th>price</th>\n",
       "      <th>mon_purchases</th>\n",
       "      <th>tues_purchases</th>\n",
       "    </tr>\n",
       "  </thead>\n",
       "  <tbody>\n",
       "    <tr>\n",
       "      <th>0</th>\n",
       "      <td>10</td>\n",
       "      <td>0.47</td>\n",
       "      <td>0.80</td>\n",
       "    </tr>\n",
       "    <tr>\n",
       "      <th>1</th>\n",
       "      <td>11</td>\n",
       "      <td>0.54</td>\n",
       "      <td>0.89</td>\n",
       "    </tr>\n",
       "    <tr>\n",
       "      <th>2</th>\n",
       "      <td>12</td>\n",
       "      <td>0.57</td>\n",
       "      <td>0.79</td>\n",
       "    </tr>\n",
       "    <tr>\n",
       "      <th>3</th>\n",
       "      <td>13</td>\n",
       "      <td>0.53</td>\n",
       "      <td>0.84</td>\n",
       "    </tr>\n",
       "    <tr>\n",
       "      <th>4</th>\n",
       "      <td>14</td>\n",
       "      <td>0.53</td>\n",
       "      <td>0.88</td>\n",
       "    </tr>\n",
       "  </tbody>\n",
       "</table>\n",
       "</div>"
      ],
      "text/plain": [
       "   price  mon_purchases  tues_purchases\n",
       "0     10           0.47            0.80\n",
       "1     11           0.54            0.89\n",
       "2     12           0.57            0.79\n",
       "3     13           0.53            0.84\n",
       "4     14           0.53            0.88"
      ]
     },
     "execution_count": 70,
     "metadata": {},
     "output_type": "execute_result"
    }
   ],
   "source": [
    "#calculate the percentage of Monday and Tuesday perchase\n",
    "percentage_of_buying = df_price.groupby(\"price\").agg({\n",
    "    'mon_purchases': 'mean',\n",
    "    'tues_purchases': 'mean'\n",
    "}) \n",
    "percentage_of_buying = percentage_of_buying.reset_index()\n",
    "percentage_of_buying.head(5)\n"
   ]
  },
  {
   "cell_type": "code",
   "execution_count": 66,
   "metadata": {},
   "outputs": [],
   "source": [
    "# Expected Value on Tuesday\n",
    "percentage_of_buying[\"Expected Money on Tuesday\"] = percentage_of_buying[\"price\"]*percentage_of_buying[\"tues_purchases\"]\n",
    "      "
   ]
  },
  {
   "cell_type": "code",
   "execution_count": 67,
   "metadata": {},
   "outputs": [
    {
     "name": "stdout",
     "output_type": "stream",
     "text": [
      "the EMV for Tuesday is:22\n",
      "the optimal price is:price                        32.00\n",
      "mon_purchases                 0.45\n",
      "tues_purchases                0.70\n",
      "Expected Money               22.40\n",
      "Expected Money on Tuesday    22.40\n",
      "Name: 22, dtype: float64\n"
     ]
    }
   ],
   "source": [
    "#find the EMV and its price on Tuesday\n",
    "Tuesday_EMV = percentage_of_buying[\"Expected Money on Tuesday\"].idxmax()\n",
    "Optimal_Tuesday_Price = percentage_of_buying.loc[Tuesday_EMV]\n",
    "print(\"the EMV for Tuesday is:{}\".format(Tuesday_EMV))\n",
    "print(\"the optimal price is:{}\".format(Optimal_Tuesday_Price))"
   ]
  },
  {
   "cell_type": "code",
   "execution_count": 68,
   "metadata": {},
   "outputs": [],
   "source": [
    "#Expected value on Monday\n",
    "percentage_of_buying[\"Expected Money on Monday\"] = percentage_of_buying[\"price\"]*percentage_of_buying[\"mon_purchases\"] +(1-percentage_of_buying[\"mon_purchases\"])*Tuesday_EMV"
   ]
  },
  {
   "cell_type": "code",
   "execution_count": 69,
   "metadata": {},
   "outputs": [
    {
     "name": "stdout",
     "output_type": "stream",
     "text": [
      "the EMV for Tuesday is:50\n",
      "the optimal price is:price                        60.00\n",
      "mon_purchases                 0.29\n",
      "tues_purchases                0.00\n",
      "Expected Money                0.00\n",
      "Expected Money on Tuesday     0.00\n",
      "Expected Money on Monday     33.02\n",
      "Name: 50, dtype: float64\n"
     ]
    }
   ],
   "source": [
    "#find the EMV and its price on Monday\n",
    "Monday_EMV = percentage_of_buying[\"Expected Money on Monday\"].idxmax()\n",
    "Optimal_Monday_Price = percentage_of_buying.loc[Monday_EMV]\n",
    "print(\"the EMV for Tuesday is:{}\".format(Monday_EMV))\n",
    "print(\"the optimal price is:{}\".format(Optimal_Monday_Price))"
   ]
  }
 ],
 "metadata": {
  "kernelspec": {
   "display_name": "base",
   "language": "python",
   "name": "python3"
  },
  "language_info": {
   "codemirror_mode": {
    "name": "ipython",
    "version": 3
   },
   "file_extension": ".py",
   "mimetype": "text/x-python",
   "name": "python",
   "nbconvert_exporter": "python",
   "pygments_lexer": "ipython3",
   "version": "3.8.8"
  },
  "orig_nbformat": 4
 },
 "nbformat": 4,
 "nbformat_minor": 2
}
